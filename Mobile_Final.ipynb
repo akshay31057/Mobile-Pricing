{
 "cells": [
  {
   "cell_type": "code",
   "execution_count": 1,
   "metadata": {
    "collapsed": true
   },
   "outputs": [],
   "source": [
    "import pandas as pd\n",
    "iris=pd.read_csv('train.csv')\n",
    "\n",
    "iris.drop_duplicates()\n",
    "iris = iris.assign(prod = iris['fc']*iris['dual_sim'])\n",
    "#iris = iris.assign(prod2 = iris['battery_power']*iris['mobile_wt'])\n",
    "\n",
    "\n",
    "X=iris[['battery_power','talk_time','touch_screen','blue','dual_sim','fc','four_g','int_memory','m_dep','mobile_wt','clock_speed','n_cores','pc','px_height','px_width','ram','sc_h','sc_w','three_g','wifi']]\n",
    "Y=iris['price_range']\n",
    "\n",
    "from sklearn.svm import SVC\n",
    "from sklearn.decomposition import PCA\n",
    "pca = PCA(n_components=10)\n",
    "k=4\n",
    "tr=iris \n",
    "te=pd.read_csv('test.csv')\n",
    "te = te.assign(prod = te['fc']*te['dual_sim'])\n",
    "\n",
    "model=SVC(C=k,kernel='poly',degree=1)\n",
    "tr_X = tr[['battery_power','talk_time','touch_screen','blue','prod','mobile_wt','four_g','int_memory','m_dep','clock_speed','n_cores','pc','px_height','px_width','ram','sc_h','sc_w','three_g','wifi']]# taking the training data features\n",
    "tr_y = tr.price_range# output of our training data\n",
    "te_X = te[['battery_power','talk_time','touch_screen','blue','prod','mobile_wt','four_g','int_memory','m_dep','clock_speed','n_cores','pc','px_height','px_width','ram','sc_h','sc_w','three_g','wifi']]# taking test data features\n",
    "pca.fit(tr_X)\n",
    "tr_X_t=pca.transform(tr_X)\n",
    "model.fit(tr_X_t,tr_y)\n",
    "te_X_t=pca.transform(te_X)\n",
    "prediction = model.predict(te_X_t)\n",
    "\n",
    "prediction\n",
    "pred=pd.DataFrame(prediction)\n",
    "pred.index=pred.index+1\n",
    "pred.to_csv(path_or_buf='answert.csv',header=['price_range'],mode='w',index_label='id')\n",
    "\n",
    "#print('The accuracy of the Logistic Regression is',metrics.accuracy_score(prediction,test_y))"
   ]
  }
 ],
 "metadata": {
  "kernelspec": {
   "display_name": "Python 3",
   "language": "python",
   "name": "python3"
  },
  "language_info": {
   "codemirror_mode": {
    "name": "ipython",
    "version": 3
   },
   "file_extension": ".py",
   "mimetype": "text/x-python",
   "name": "python",
   "nbconvert_exporter": "python",
   "pygments_lexer": "ipython3",
   "version": "3.6.1"
  }
 },
 "nbformat": 4,
 "nbformat_minor": 2
}
